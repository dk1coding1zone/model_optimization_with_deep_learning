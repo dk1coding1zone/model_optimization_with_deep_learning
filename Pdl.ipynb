{
  "nbformat": 4,
  "nbformat_minor": 0,
  "metadata": {
    "colab": {
      "provenance": []
    },
    "kernelspec": {
      "name": "python3",
      "display_name": "Python 3"
    },
    "language_info": {
      "name": "python"
    }
  },
  "cells": [
    {
      "cell_type": "code",
      "execution_count": 1,
      "metadata": {
        "colab": {
          "base_uri": "https://localhost:8080/"
        },
        "id": "pR8il9uCOsLz",
        "outputId": "6eee7f18-2670-4d2c-85c5-2395b1b7f51f"
      },
      "outputs": [
        {
          "output_type": "stream",
          "name": "stderr",
          "text": [
            "\r[*********************100%***********************]  1 of 1 completed\n"
          ]
        },
        {
          "output_type": "stream",
          "name": "stdout",
          "text": [
            "Data for ASIANPAINT fetched successfully!\n"
          ]
        },
        {
          "output_type": "stream",
          "name": "stderr",
          "text": [
            "\r[*********************100%***********************]  1 of 1 completed\n"
          ]
        },
        {
          "output_type": "stream",
          "name": "stdout",
          "text": [
            "Data for ASTRAL fetched successfully!\n"
          ]
        },
        {
          "output_type": "stream",
          "name": "stderr",
          "text": [
            "\r[*********************100%***********************]  1 of 1 completed\n"
          ]
        },
        {
          "output_type": "stream",
          "name": "stdout",
          "text": [
            "Data for BHARATFORG fetched successfully!\n"
          ]
        },
        {
          "output_type": "stream",
          "name": "stderr",
          "text": [
            "\r[*********************100%***********************]  1 of 1 completed\n"
          ]
        },
        {
          "output_type": "stream",
          "name": "stdout",
          "text": [
            "Data for BHARTIARTL fetched successfully!\n"
          ]
        },
        {
          "output_type": "stream",
          "name": "stderr",
          "text": [
            "\r[*********************100%***********************]  1 of 1 completed\n"
          ]
        },
        {
          "output_type": "stream",
          "name": "stdout",
          "text": [
            "Data for CIPLA fetched successfully!\n"
          ]
        },
        {
          "output_type": "stream",
          "name": "stderr",
          "text": [
            "[*********************100%***********************]  1 of 1 completed\n",
            "[*********************100%***********************]  1 of 1 completed\n"
          ]
        },
        {
          "output_type": "stream",
          "name": "stdout",
          "text": [
            "Data for DEEPAKNTR fetched successfully!\n",
            "Data for DIXON fetched successfully!\n"
          ]
        },
        {
          "output_type": "stream",
          "name": "stderr",
          "text": [
            "\r[*********************100%***********************]  1 of 1 completed\n"
          ]
        },
        {
          "output_type": "stream",
          "name": "stdout",
          "text": [
            "Data for EXIDEIND fetched successfully!\n"
          ]
        },
        {
          "output_type": "stream",
          "name": "stderr",
          "text": [
            "[*********************100%***********************]  1 of 1 completed\n",
            "[*********************100%***********************]  1 of 1 completed\n"
          ]
        },
        {
          "output_type": "stream",
          "name": "stdout",
          "text": [
            "Data for GRASIM fetched successfully!\n",
            "Data for HAL fetched successfully!\n"
          ]
        },
        {
          "output_type": "stream",
          "name": "stderr",
          "text": [
            "\r[*********************100%***********************]  1 of 1 completed\n"
          ]
        },
        {
          "output_type": "stream",
          "name": "stdout",
          "text": [
            "Data for INDUSINDBK fetched successfully!\n"
          ]
        },
        {
          "output_type": "stream",
          "name": "stderr",
          "text": [
            "[*********************100%***********************]  1 of 1 completed\n",
            "[*********************100%***********************]  1 of 1 completed\n"
          ]
        },
        {
          "output_type": "stream",
          "name": "stdout",
          "text": [
            "Data for INFY fetched successfully!\n",
            "Data for OBEROIRLTY fetched successfully!\n"
          ]
        },
        {
          "output_type": "stream",
          "name": "stderr",
          "text": [
            "\r[*********************100%***********************]  1 of 1 completed\n"
          ]
        },
        {
          "output_type": "stream",
          "name": "stdout",
          "text": [
            "Data for RELIANCE fetched successfully!\n"
          ]
        },
        {
          "output_type": "stream",
          "name": "stderr",
          "text": [
            "\r[*********************100%***********************]  1 of 1 completed\n"
          ]
        },
        {
          "output_type": "stream",
          "name": "stdout",
          "text": [
            "Data for SBIN fetched successfully!\n"
          ]
        },
        {
          "output_type": "stream",
          "name": "stderr",
          "text": [
            "\r[*********************100%***********************]  1 of 1 completed\n"
          ]
        },
        {
          "output_type": "stream",
          "name": "stdout",
          "text": [
            "Data for TATAMOTORS fetched successfully!\n"
          ]
        },
        {
          "output_type": "stream",
          "name": "stderr",
          "text": [
            "[*********************100%***********************]  1 of 1 completed\n",
            "[*********************100%***********************]  1 of 1 completed\n"
          ]
        },
        {
          "output_type": "stream",
          "name": "stdout",
          "text": [
            "Data for TCS fetched successfully!\n",
            "Data for TRENT fetched successfully!\n"
          ]
        },
        {
          "output_type": "stream",
          "name": "stderr",
          "text": [
            "[*********************100%***********************]  1 of 1 completed\n",
            "[*********************100%***********************]  1 of 1 completed\n"
          ]
        },
        {
          "output_type": "stream",
          "name": "stdout",
          "text": [
            "Data for ZEEL fetched successfully!\n",
            "Data for ULTRACEMCO fetched successfully!\n"
          ]
        },
        {
          "output_type": "stream",
          "name": "stderr",
          "text": [
            "/usr/local/lib/python3.10/dist-packages/keras/src/layers/rnn/rnn.py:204: UserWarning: Do not pass an `input_shape`/`input_dim` argument to a layer. When using Sequential models, prefer using an `Input(shape)` object as the first layer in the model instead.\n",
            "  super().__init__(**kwargs)\n"
          ]
        },
        {
          "output_type": "stream",
          "name": "stdout",
          "text": [
            "Epoch 1/50\n",
            "\u001b[1m4/4\u001b[0m \u001b[32m━━━━━━━━━━━━━━━━━━━━\u001b[0m\u001b[37m\u001b[0m \u001b[1m3s\u001b[0m 169ms/step - loss: -3.3291 - val_loss: -3.3686\n",
            "Epoch 2/50\n",
            "\u001b[1m4/4\u001b[0m \u001b[32m━━━━━━━━━━━━━━━━━━━━\u001b[0m\u001b[37m\u001b[0m \u001b[1m0s\u001b[0m 34ms/step - loss: -3.3457 - val_loss: -3.3730\n",
            "Epoch 3/50\n",
            "\u001b[1m4/4\u001b[0m \u001b[32m━━━━━━━━━━━━━━━━━━━━\u001b[0m\u001b[37m\u001b[0m \u001b[1m0s\u001b[0m 30ms/step - loss: -3.3450 - val_loss: -3.3745\n",
            "Epoch 4/50\n",
            "\u001b[1m4/4\u001b[0m \u001b[32m━━━━━━━━━━━━━━━━━━━━\u001b[0m\u001b[37m\u001b[0m \u001b[1m0s\u001b[0m 22ms/step - loss: -3.3459 - val_loss: -3.3756\n",
            "Epoch 5/50\n",
            "\u001b[1m4/4\u001b[0m \u001b[32m━━━━━━━━━━━━━━━━━━━━\u001b[0m\u001b[37m\u001b[0m \u001b[1m0s\u001b[0m 22ms/step - loss: -3.3539 - val_loss: -3.3765\n",
            "Epoch 6/50\n",
            "\u001b[1m4/4\u001b[0m \u001b[32m━━━━━━━━━━━━━━━━━━━━\u001b[0m\u001b[37m\u001b[0m \u001b[1m0s\u001b[0m 27ms/step - loss: -3.3579 - val_loss: -3.3771\n",
            "Epoch 7/50\n",
            "\u001b[1m4/4\u001b[0m \u001b[32m━━━━━━━━━━━━━━━━━━━━\u001b[0m\u001b[37m\u001b[0m \u001b[1m0s\u001b[0m 23ms/step - loss: -3.3515 - val_loss: -3.3774\n",
            "Epoch 8/50\n",
            "\u001b[1m4/4\u001b[0m \u001b[32m━━━━━━━━━━━━━━━━━━━━\u001b[0m\u001b[37m\u001b[0m \u001b[1m0s\u001b[0m 39ms/step - loss: -3.3533 - val_loss: -3.3776\n",
            "Epoch 9/50\n",
            "\u001b[1m4/4\u001b[0m \u001b[32m━━━━━━━━━━━━━━━━━━━━\u001b[0m\u001b[37m\u001b[0m \u001b[1m0s\u001b[0m 38ms/step - loss: -3.3570 - val_loss: -3.3776\n",
            "Epoch 10/50\n",
            "\u001b[1m4/4\u001b[0m \u001b[32m━━━━━━━━━━━━━━━━━━━━\u001b[0m\u001b[37m\u001b[0m \u001b[1m0s\u001b[0m 38ms/step - loss: -3.3542 - val_loss: -3.3776\n",
            "Epoch 11/50\n",
            "\u001b[1m4/4\u001b[0m \u001b[32m━━━━━━━━━━━━━━━━━━━━\u001b[0m\u001b[37m\u001b[0m \u001b[1m0s\u001b[0m 35ms/step - loss: -3.3529 - val_loss: -3.3776\n",
            "Epoch 12/50\n",
            "\u001b[1m4/4\u001b[0m \u001b[32m━━━━━━━━━━━━━━━━━━━━\u001b[0m\u001b[37m\u001b[0m \u001b[1m0s\u001b[0m 40ms/step - loss: -3.3556 - val_loss: -3.3776\n",
            "Epoch 13/50\n",
            "\u001b[1m4/4\u001b[0m \u001b[32m━━━━━━━━━━━━━━━━━━━━\u001b[0m\u001b[37m\u001b[0m \u001b[1m0s\u001b[0m 38ms/step - loss: -3.3568 - val_loss: -3.3778\n",
            "Epoch 14/50\n",
            "\u001b[1m4/4\u001b[0m \u001b[32m━━━━━━━━━━━━━━━━━━━━\u001b[0m\u001b[37m\u001b[0m \u001b[1m0s\u001b[0m 39ms/step - loss: -3.3501 - val_loss: -3.3779\n",
            "Epoch 15/50\n",
            "\u001b[1m4/4\u001b[0m \u001b[32m━━━━━━━━━━━━━━━━━━━━\u001b[0m\u001b[37m\u001b[0m \u001b[1m0s\u001b[0m 37ms/step - loss: -3.3533 - val_loss: -3.3778\n",
            "Epoch 16/50\n",
            "\u001b[1m4/4\u001b[0m \u001b[32m━━━━━━━━━━━━━━━━━━━━\u001b[0m\u001b[37m\u001b[0m \u001b[1m0s\u001b[0m 45ms/step - loss: -3.3543 - val_loss: -3.3777\n",
            "Epoch 17/50\n",
            "\u001b[1m4/4\u001b[0m \u001b[32m━━━━━━━━━━━━━━━━━━━━\u001b[0m\u001b[37m\u001b[0m \u001b[1m0s\u001b[0m 39ms/step - loss: -3.3521 - val_loss: -3.3776\n",
            "Epoch 18/50\n",
            "\u001b[1m4/4\u001b[0m \u001b[32m━━━━━━━━━━━━━━━━━━━━\u001b[0m\u001b[37m\u001b[0m \u001b[1m0s\u001b[0m 36ms/step - loss: -3.3499 - val_loss: -3.3777\n",
            "Epoch 19/50\n",
            "\u001b[1m4/4\u001b[0m \u001b[32m━━━━━━━━━━━━━━━━━━━━\u001b[0m\u001b[37m\u001b[0m \u001b[1m0s\u001b[0m 21ms/step - loss: -3.3492 - val_loss: -3.3779\n",
            "Epoch 20/50\n",
            "\u001b[1m4/4\u001b[0m \u001b[32m━━━━━━━━━━━━━━━━━━━━\u001b[0m\u001b[37m\u001b[0m \u001b[1m0s\u001b[0m 22ms/step - loss: -3.3541 - val_loss: -3.3779\n",
            "Epoch 21/50\n",
            "\u001b[1m4/4\u001b[0m \u001b[32m━━━━━━━━━━━━━━━━━━━━\u001b[0m\u001b[37m\u001b[0m \u001b[1m0s\u001b[0m 23ms/step - loss: -3.3483 - val_loss: -3.3778\n",
            "Epoch 22/50\n",
            "\u001b[1m4/4\u001b[0m \u001b[32m━━━━━━━━━━━━━━━━━━━━\u001b[0m\u001b[37m\u001b[0m \u001b[1m0s\u001b[0m 22ms/step - loss: -3.3512 - val_loss: -3.3774\n",
            "Epoch 23/50\n",
            "\u001b[1m4/4\u001b[0m \u001b[32m━━━━━━━━━━━━━━━━━━━━\u001b[0m\u001b[37m\u001b[0m \u001b[1m0s\u001b[0m 22ms/step - loss: -3.3527 - val_loss: -3.3774\n",
            "Epoch 24/50\n",
            "\u001b[1m4/4\u001b[0m \u001b[32m━━━━━━━━━━━━━━━━━━━━\u001b[0m\u001b[37m\u001b[0m \u001b[1m0s\u001b[0m 21ms/step - loss: -3.3532 - val_loss: -3.3777\n",
            "Epoch 25/50\n",
            "\u001b[1m4/4\u001b[0m \u001b[32m━━━━━━━━━━━━━━━━━━━━\u001b[0m\u001b[37m\u001b[0m \u001b[1m0s\u001b[0m 24ms/step - loss: -3.3554 - val_loss: -3.3776\n",
            "Epoch 26/50\n",
            "\u001b[1m4/4\u001b[0m \u001b[32m━━━━━━━━━━━━━━━━━━━━\u001b[0m\u001b[37m\u001b[0m \u001b[1m0s\u001b[0m 22ms/step - loss: -3.3489 - val_loss: -3.3773\n",
            "Epoch 27/50\n",
            "\u001b[1m4/4\u001b[0m \u001b[32m━━━━━━━━━━━━━━━━━━━━\u001b[0m\u001b[37m\u001b[0m \u001b[1m0s\u001b[0m 21ms/step - loss: -3.3538 - val_loss: -3.3775\n",
            "Epoch 28/50\n",
            "\u001b[1m4/4\u001b[0m \u001b[32m━━━━━━━━━━━━━━━━━━━━\u001b[0m\u001b[37m\u001b[0m \u001b[1m0s\u001b[0m 29ms/step - loss: -3.3503 - val_loss: -3.3777\n",
            "Epoch 29/50\n",
            "\u001b[1m4/4\u001b[0m \u001b[32m━━━━━━━━━━━━━━━━━━━━\u001b[0m\u001b[37m\u001b[0m \u001b[1m0s\u001b[0m 23ms/step - loss: -3.3514 - val_loss: -3.3778\n",
            "Epoch 30/50\n",
            "\u001b[1m4/4\u001b[0m \u001b[32m━━━━━━━━━━━━━━━━━━━━\u001b[0m\u001b[37m\u001b[0m \u001b[1m0s\u001b[0m 23ms/step - loss: -3.3558 - val_loss: -3.3778\n",
            "Epoch 31/50\n",
            "\u001b[1m4/4\u001b[0m \u001b[32m━━━━━━━━━━━━━━━━━━━━\u001b[0m\u001b[37m\u001b[0m \u001b[1m0s\u001b[0m 22ms/step - loss: -3.3495 - val_loss: -3.3779\n",
            "Epoch 32/50\n",
            "\u001b[1m4/4\u001b[0m \u001b[32m━━━━━━━━━━━━━━━━━━━━\u001b[0m\u001b[37m\u001b[0m \u001b[1m0s\u001b[0m 25ms/step - loss: -3.3546 - val_loss: -3.3776\n",
            "Epoch 33/50\n",
            "\u001b[1m4/4\u001b[0m \u001b[32m━━━━━━━━━━━━━━━━━━━━\u001b[0m\u001b[37m\u001b[0m \u001b[1m0s\u001b[0m 25ms/step - loss: -3.3540 - val_loss: -3.3775\n",
            "Epoch 34/50\n",
            "\u001b[1m4/4\u001b[0m \u001b[32m━━━━━━━━━━━━━━━━━━━━\u001b[0m\u001b[37m\u001b[0m \u001b[1m0s\u001b[0m 22ms/step - loss: -3.3521 - val_loss: -3.3777\n",
            "Epoch 35/50\n",
            "\u001b[1m4/4\u001b[0m \u001b[32m━━━━━━━━━━━━━━━━━━━━\u001b[0m\u001b[37m\u001b[0m \u001b[1m0s\u001b[0m 21ms/step - loss: -3.3540 - val_loss: -3.3779\n",
            "Epoch 36/50\n",
            "\u001b[1m4/4\u001b[0m \u001b[32m━━━━━━━━━━━━━━━━━━━━\u001b[0m\u001b[37m\u001b[0m \u001b[1m0s\u001b[0m 27ms/step - loss: -3.3512 - val_loss: -3.3780\n",
            "Epoch 37/50\n",
            "\u001b[1m4/4\u001b[0m \u001b[32m━━━━━━━━━━━━━━━━━━━━\u001b[0m\u001b[37m\u001b[0m \u001b[1m0s\u001b[0m 22ms/step - loss: -3.3471 - val_loss: -3.3779\n",
            "Epoch 38/50\n",
            "\u001b[1m4/4\u001b[0m \u001b[32m━━━━━━━━━━━━━━━━━━━━\u001b[0m\u001b[37m\u001b[0m \u001b[1m0s\u001b[0m 28ms/step - loss: -3.3565 - val_loss: -3.3778\n",
            "Epoch 39/50\n",
            "\u001b[1m4/4\u001b[0m \u001b[32m━━━━━━━━━━━━━━━━━━━━\u001b[0m\u001b[37m\u001b[0m \u001b[1m0s\u001b[0m 22ms/step - loss: -3.3537 - val_loss: -3.3778\n",
            "Epoch 40/50\n",
            "\u001b[1m4/4\u001b[0m \u001b[32m━━━━━━━━━━━━━━━━━━━━\u001b[0m\u001b[37m\u001b[0m \u001b[1m0s\u001b[0m 31ms/step - loss: -3.3494 - val_loss: -3.3778\n",
            "Epoch 41/50\n",
            "\u001b[1m4/4\u001b[0m \u001b[32m━━━━━━━━━━━━━━━━━━━━\u001b[0m\u001b[37m\u001b[0m \u001b[1m0s\u001b[0m 23ms/step - loss: -3.3522 - val_loss: -3.3777\n",
            "Epoch 42/50\n",
            "\u001b[1m4/4\u001b[0m \u001b[32m━━━━━━━━━━━━━━━━━━━━\u001b[0m\u001b[37m\u001b[0m \u001b[1m0s\u001b[0m 23ms/step - loss: -3.3539 - val_loss: -3.3778\n",
            "Epoch 43/50\n",
            "\u001b[1m4/4\u001b[0m \u001b[32m━━━━━━━━━━━━━━━━━━━━\u001b[0m\u001b[37m\u001b[0m \u001b[1m0s\u001b[0m 22ms/step - loss: -3.3543 - val_loss: -3.3778\n",
            "Epoch 44/50\n",
            "\u001b[1m4/4\u001b[0m \u001b[32m━━━━━━━━━━━━━━━━━━━━\u001b[0m\u001b[37m\u001b[0m \u001b[1m0s\u001b[0m 21ms/step - loss: -3.3545 - val_loss: -3.3779\n",
            "Epoch 45/50\n",
            "\u001b[1m4/4\u001b[0m \u001b[32m━━━━━━━━━━━━━━━━━━━━\u001b[0m\u001b[37m\u001b[0m \u001b[1m0s\u001b[0m 23ms/step - loss: -3.3513 - val_loss: -3.3779\n",
            "Epoch 46/50\n",
            "\u001b[1m4/4\u001b[0m \u001b[32m━━━━━━━━━━━━━━━━━━━━\u001b[0m\u001b[37m\u001b[0m \u001b[1m0s\u001b[0m 25ms/step - loss: -3.3566 - val_loss: -3.3778\n",
            "Epoch 47/50\n",
            "\u001b[1m4/4\u001b[0m \u001b[32m━━━━━━━━━━━━━━━━━━━━\u001b[0m\u001b[37m\u001b[0m \u001b[1m0s\u001b[0m 21ms/step - loss: -3.3491 - val_loss: -3.3779\n",
            "Epoch 48/50\n",
            "\u001b[1m4/4\u001b[0m \u001b[32m━━━━━━━━━━━━━━━━━━━━\u001b[0m\u001b[37m\u001b[0m \u001b[1m0s\u001b[0m 28ms/step - loss: -3.3496 - val_loss: -3.3779\n",
            "Epoch 49/50\n",
            "\u001b[1m4/4\u001b[0m \u001b[32m━━━━━━━━━━━━━━━━━━━━\u001b[0m\u001b[37m\u001b[0m \u001b[1m0s\u001b[0m 22ms/step - loss: -3.3504 - val_loss: -3.3778\n",
            "Epoch 50/50\n",
            "\u001b[1m4/4\u001b[0m \u001b[32m━━━━━━━━━━━━━━━━━━━━\u001b[0m\u001b[37m\u001b[0m \u001b[1m0s\u001b[0m 27ms/step - loss: -3.3535 - val_loss: -3.3778\n",
            "\u001b[1m1/1\u001b[0m \u001b[32m━━━━━━━━━━━━━━━━━━━━\u001b[0m\u001b[37m\u001b[0m \u001b[1m0s\u001b[0m 31ms/step - loss: -3.3428\n",
            "Test Loss: -3.3427584171295166\n",
            "\u001b[1m1/1\u001b[0m \u001b[32m━━━━━━━━━━━━━━━━━━━━\u001b[0m\u001b[37m\u001b[0m \u001b[1m0s\u001b[0m 172ms/step\n",
            "Portfolio 1:\n",
            "  Weights: [0.0528293  0.04706179 0.04690647 0.04991643 0.0471307  0.04359911\n",
            " 0.06741028 0.04599546 0.05231664 0.05190976 0.05524003 0.06186244\n",
            " 0.05537141 0.0463945  0.05194354 0.04375685 0.04396068 0.04167868\n",
            " 0.03981602 0.05489988]\n",
            "  Expected Return: 0.001116664329987497\n",
            "  Risk (Standard Deviation): 0.006729047806775453\n",
            "  Entropy: 2.98707914352417\n",
            "\n",
            "Portfolio 2:\n",
            "  Weights: [0.05327618 0.04716882 0.04626089 0.04844163 0.04747916 0.04382031\n",
            " 0.06960984 0.04547859 0.05313416 0.05244832 0.05621063 0.06203336\n",
            " 0.05566778 0.04501072 0.05143187 0.04296001 0.04319635 0.04230214\n",
            " 0.04072562 0.05334362]\n",
            "  Expected Return: 0.0011201438568646063\n",
            "  Risk (Standard Deviation): 0.006755346696649405\n",
            "  Entropy: 2.9861626625061035\n",
            "\n",
            "Portfolio 3:\n",
            "  Weights: [0.05308266 0.04811135 0.04656981 0.04937401 0.04710977 0.04386035\n",
            " 0.06747045 0.04550355 0.05196548 0.05145602 0.05541213 0.06256162\n",
            " 0.05490427 0.0461964  0.05171115 0.04318991 0.04385613 0.04203435\n",
            " 0.04063152 0.05499913]\n",
            "  Expected Return: 0.001114667648411398\n",
            "  Risk (Standard Deviation): 0.006733201833831975\n",
            "  Entropy: 2.9870989322662354\n",
            "\n",
            "Portfolio 4:\n",
            "  Weights: [0.05346825 0.04800727 0.04644988 0.04953083 0.04653956 0.0438928\n",
            " 0.06737441 0.04570333 0.05153599 0.05241631 0.05698977 0.06160843\n",
            " 0.05493012 0.0462463  0.05169869 0.04239541 0.04393584 0.04138618\n",
            " 0.0414488  0.05444184]\n",
            "  Expected Return: 0.0011147038464280677\n",
            "  Risk (Standard Deviation): 0.006743014748570935\n",
            "  Entropy: 2.987060070037842\n",
            "\n",
            "Portfolio 5:\n",
            "  Weights: [0.05371945 0.04815312 0.04513598 0.04965239 0.04691417 0.04425165\n",
            " 0.06766382 0.04557299 0.0528799  0.05254145 0.05624311 0.06221883\n",
            " 0.05412032 0.04614333 0.05154372 0.04284697 0.04397089 0.04180805\n",
            " 0.04132965 0.05329031]\n",
            "  Expected Return: 0.0011143042757814571\n",
            "  Risk (Standard Deviation): 0.006738170738722413\n",
            "  Entropy: 2.987088680267334\n",
            "\n"
          ]
        }
      ],
      "source": [
        "import yfinance as yf\n",
        "import numpy as np\n",
        "import pandas as pd\n",
        "from sklearn.model_selection import train_test_split\n",
        "from tensorflow.keras.models import Sequential\n",
        "from tensorflow.keras.layers import LSTM, Dense\n",
        "from sklearn.preprocessing import MinMaxScaler\n",
        "from tensorflow.keras import backend as K\n",
        "\n",
        "# List of companies to fetch data for\n",
        "companies = [\n",
        "    \"ASIANPAINT\", \"ASTRAL\", \"BHARATFORG\", \"BHARTIARTL\", \"CIPLA\",\n",
        "    \"DEEPAKNTR\", \"DIXON\", \"EXIDEIND\", \"GRASIM\", \"HAL\",\n",
        "    \"INDUSINDBK\", \"INFY\", \"OBEROIRLTY\", \"RELIANCE\", \"SBIN\",\n",
        "    \"TATAMOTORS\", \"TCS\", \"TRENT\", \"ZEEL\", \"ULTRACEMCO\"\n",
        "]\n",
        "\n",
        "# Fetch data for each company and store in a dictionary\n",
        "company_data = {}\n",
        "for company in companies:\n",
        "    symbol = company + \".NS\"  # Append .NS for NSE symbols in yfinance\n",
        "    data = yf.download(symbol, start=\"2023-01-01\", end=\"2023-10-01\")\n",
        "    if data.empty:\n",
        "        print(f\"No data found for {company}\")\n",
        "    else:\n",
        "        company_data[company] = data['Adj Close']\n",
        "        print(f\"Data for {company} fetched successfully!\")\n",
        "\n",
        "# Concatenate data for all companies and calculate daily returns\n",
        "price_data = pd.concat(company_data.values(), axis=1)\n",
        "price_data.columns = companies\n",
        "returns = price_data.pct_change().dropna()\n",
        "\n",
        "# Normalize returns\n",
        "scaler = MinMaxScaler()\n",
        "returns_scaled = scaler.fit_transform(returns)\n",
        "\n",
        "# Prepare data for LSTM\n",
        "window_size = 30\n",
        "X, y = [], []\n",
        "\n",
        "for i in range(window_size, len(returns_scaled)):\n",
        "    X.append(returns_scaled[i-window_size:i])\n",
        "    y.append(returns_scaled[i])\n",
        "\n",
        "X, y = np.array(X), np.array(y)\n",
        "\n",
        "# Split into training and test sets\n",
        "X_train, X_test, y_train, y_test = train_test_split(X, y, test_size=0.2, random_state=42)\n",
        "\n",
        "# Define custom loss function to maximize return, minimize risk, and maximize entropy\n",
        "def portfolio_loss(y_true, y_pred):\n",
        "    # Normalize predicted weights\n",
        "    weights = K.softmax(y_pred)\n",
        "\n",
        "    # Calculate portfolio return (maximize return)\n",
        "    portfolio_return = K.sum(weights * y_true, axis=1)\n",
        "\n",
        "    # Calculate portfolio risk (minimize risk)\n",
        "    portfolio_risk = K.sqrt(K.sum(K.square(y_true - K.mean(y_true, axis=0)) * weights, axis=1))\n",
        "\n",
        "    # Calculate portfolio entropy (maximize entropy)\n",
        "    portfolio_entropy = -K.sum(weights * K.log(weights + 1e-9), axis=1)\n",
        "\n",
        "    # Final loss: adjust weights to trade off return, risk, and entropy\n",
        "    loss = -K.mean(portfolio_return) + K.mean(portfolio_risk) - K.mean(portfolio_entropy)\n",
        "\n",
        "    return loss\n",
        "\n",
        "# Build the LSTM model to predict portfolio weights\n",
        "model = Sequential()\n",
        "model.add(LSTM(50, activation='relu', input_shape=(window_size, len(companies))))\n",
        "model.add(Dense(len(companies)))  # Output shape will be (None, num_companies)\n",
        "model.compile(optimizer='adam', loss=portfolio_loss)\n",
        "\n",
        "# Train the model\n",
        "history = model.fit(X_train, y_train, epochs=50, batch_size=32, validation_split=0.2)\n",
        "\n",
        "# Evaluate the model\n",
        "loss = model.evaluate(X_test, y_test)\n",
        "print(f'Test Loss: {loss}')\n",
        "\n",
        "# Make predictions (optimal weights)\n",
        "predicted_weights = model.predict(X_test)\n",
        "\n",
        "# Apply softmax to ensure weights sum to 1\n",
        "predicted_weights = np.exp(predicted_weights) / np.sum(np.exp(predicted_weights), axis=1, keepdims=True)\n",
        "\n",
        "# Calculate portfolio metrics using predicted weights\n",
        "for i, weights in enumerate(predicted_weights[:5]):\n",
        "    selected_companies = companies[:len(weights)]  # Match companies to predicted weights\n",
        "\n",
        "    mean_returns = returns[selected_companies].mean()\n",
        "    portfolio_expected_return = np.dot(weights, mean_returns)\n",
        "    portfolio_risk = np.sqrt(np.dot(weights.T, np.dot(returns[selected_companies].cov(), weights)))\n",
        "    portfolio_entropy = -np.sum(weights * np.log(weights + 1e-9))\n",
        "\n",
        "    print(f\"Portfolio {i+1}:\")\n",
        "    print(f\"  Weights: {weights}\")\n",
        "    print(f\"  Expected Return: {portfolio_expected_return}\")\n",
        "    print(f\"  Risk (Standard Deviation): {portfolio_risk}\")\n",
        "    print(f\"  Entropy: {portfolio_entropy}\\n\")\n"
      ]
    }
  ]
}